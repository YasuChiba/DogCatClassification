{
 "cells": [
  {
   "cell_type": "code",
   "execution_count": 1,
   "metadata": {},
   "outputs": [
    {
     "name": "stderr",
     "output_type": "stream",
     "text": [
      "/usr/local/lib/python3.6/dist-packages/h5py/__init__.py:36: FutureWarning: Conversion of the second argument of issubdtype from `float` to `np.floating` is deprecated. In future, it will be treated as `np.float64 == np.dtype(float).type`.\n",
      "  from ._conv import register_converters as _register_converters\n",
      "Using TensorFlow backend.\n"
     ]
    }
   ],
   "source": [
    "from keras.applications.inception_v3 import InceptionV3,preprocess_input,decode_predictions\n",
    "from PIL import Image\n",
    "import matplotlib.pyplot as plt\n",
    "%matplotlib inline\n",
    "import glob\n",
    "import numpy as np\n",
    "from keras import optimizers\n",
    "from keras.preprocessing import image\n",
    "from keras.layers import Input, Activation, Dropout, Flatten, Dense\n",
    "from keras.models import load_model"
   ]
  },
  {
   "cell_type": "code",
   "execution_count": 2,
   "metadata": {},
   "outputs": [
    {
     "name": "stdout",
     "output_type": "stream",
     "text": [
      "250\n"
     ]
    }
   ],
   "source": [
    "img_width, img_height = 299, 299\n",
    "\n",
    "\n",
    "\n",
    "\n",
    "def loadAllImageFromDir(dirName):\n",
    "  file_type  = 'jpg'\n",
    "  img_name_list = glob.glob('./' + dirName + '/*.' + file_type)\n",
    "\n",
    "  imageList = []\n",
    "  for imgName in img_name_list:\n",
    "    img = image.load_img(imgName, target_size=(img_width, img_height))\n",
    "    x = image.img_to_array(img)\n",
    "    x = preprocess_input(x)\n",
    "    imageList.append(x)\n",
    "  return np.asarray(imageList)\n",
    "\n",
    "dogImages = loadAllImageFromDir(\"../original_data/dog\")\n",
    "catImages = loadAllImageFromDir(\"../original_data/cat\")\n",
    "\n",
    "catLabels =  np.array([[0] for i in range(0,len(catImages))])\n",
    "dogLabels =  np.array([[1] for i in range(0,len(dogImages))])\n",
    "\n",
    "print(len(catLabels))"
   ]
  },
  {
   "cell_type": "code",
   "execution_count": 3,
   "metadata": {},
   "outputs": [],
   "source": [
    "model=load_model(\"../models/InceptionResNet_Finetuning/inceptionResNet_finetuning_train10.h5\")\n",
    "\n",
    "\n"
   ]
  },
  {
   "cell_type": "code",
   "execution_count": 4,
   "metadata": {},
   "outputs": [
    {
     "name": "stdout",
     "output_type": "stream",
     "text": [
      "250/250 [==============================] - 4s 15ms/step\n",
      "250/250 [==============================] - 1s 5ms/step\n",
      "[0.35064358232310044, 0.956]\n",
      "[0.013091439434835478, 0.992]\n"
     ]
    }
   ],
   "source": [
    "scoreCat = model.evaluate(catImages, catLabels, verbose=1)\n",
    "scoreDog = model.evaluate(dogImages, dogLabels, verbose=1)\n",
    "print(scoreCat)\n",
    "print(scoreDog)"
   ]
  },
  {
   "cell_type": "code",
   "execution_count": 5,
   "metadata": {},
   "outputs": [
    {
     "name": "stdout",
     "output_type": "stream",
     "text": [
      "500/500 [==============================] - 3s 5ms/step\n",
      "[0.18186751067779722, 0.974]\n"
     ]
    }
   ],
   "source": [
    "imagesList = np.concatenate([catImages,dogImages])\n",
    "labelList = np.concatenate([catLabels,dogLabels])\n",
    "\n",
    "\n",
    "print(model.evaluate(imagesList, labelList, verbose=1))"
   ]
  },
  {
   "cell_type": "code",
   "execution_count": 6,
   "metadata": {},
   "outputs": [],
   "source": [
    "catPredictedList = []\n",
    "for index in range(0,len(catImages)):\n",
    "  predictedResult= model.predict(np.array([catImages[index]]))\n",
    "  catPredictedList.append((predictedResult[0][0],catImages[index]))\n",
    "\n",
    "\n",
    "dogPredictedList = []\n",
    "for index in range(0,len(dogImages)):\n",
    "  predictedResult= model.predict(np.array([dogImages[index]]))\n",
    "  dogPredictedList.append((predictedResult[0][0],dogImages[index]))\n",
    "\n",
    "\n",
    "\n",
    "\n"
   ]
  },
  {
   "cell_type": "code",
   "execution_count": null,
   "metadata": {},
   "outputs": [],
   "source": []
  }
 ],
 "metadata": {
  "kernelspec": {
   "display_name": "Python 3",
   "language": "python",
   "name": "python3"
  },
  "language_info": {
   "codemirror_mode": {
    "name": "ipython",
    "version": 3
   },
   "file_extension": ".py",
   "mimetype": "text/x-python",
   "name": "python",
   "nbconvert_exporter": "python",
   "pygments_lexer": "ipython3",
   "version": "3.6.3"
  }
 },
 "nbformat": 4,
 "nbformat_minor": 2
}
