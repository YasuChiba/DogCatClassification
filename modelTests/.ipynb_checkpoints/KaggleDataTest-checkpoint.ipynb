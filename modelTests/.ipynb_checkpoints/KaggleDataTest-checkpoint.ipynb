{
 "cells": [
  {
   "cell_type": "code",
   "execution_count": null,
   "metadata": {},
   "outputs": [],
   "source": [
    "from keras.applications.inception_v3 import InceptionV3,preprocess_input\n",
    "from keras.applications.inception_v3 import preprocess_input as inception_preprocess_input\n",
    "\n",
    "from keras.applications.xception import Xception,preprocess_input\n",
    "from keras.applications.xception import preprocess_input as xception_preprocess_input\n",
    "\n",
    "from keras.applications.vgg16 import VGG16, preprocess_input\n",
    "from keras.applications.vgg16 import preprocess_input as vgg16_preprocess_input\n",
    "\n",
    "\n",
    "from keras.models import Sequential, Model,load_model\n",
    "from keras.preprocessing import image\n",
    "\n",
    "from keras.wrappers.scikit_learn import KerasRegressor\n",
    "\n",
    "\n",
    "\n",
    "import matplotlib.pyplot as plt\n",
    "%matplotlib inline\n",
    "import numpy as np\n",
    "from PIL import Image\n",
    "import glob\n",
    "\n"
   ]
  },
  {
   "cell_type": "code",
   "execution_count": null,
   "metadata": {},
   "outputs": [],
   "source": [
    "model_inception =load_model(\"../models/InceptionResNet_Finetuning/inceptionResNet_finetuning_train10.h5\")\n",
    "\n",
    "model_xception =load_model(\"../models/Xception/xception_finetuning_train10.h5\")\n",
    "\n",
    "model_vgg16 =load_model(\"../models/VGG_Finetuning/vgg16_finetuning_train10.h5\")"
   ]
  },
  {
   "cell_type": "code",
   "execution_count": null,
   "metadata": {},
   "outputs": [],
   "source": [
    "img_width_xception_inception, img_height_xception_inception = 299, 299\n",
    "img_width_vgg, img_height_vgg = 224, 224"
   ]
  },
  {
   "cell_type": "code",
   "execution_count": null,
   "metadata": {},
   "outputs": [],
   "source": [
    "\n",
    "def loadAllImage(img_name_list, preprocess_input,img_width,img_height):\n",
    "\n",
    "  imageList = []\n",
    "  for imgName in img_name_list:\n",
    "    img = image.load_img(imgName, target_size=(img_width, img_height))\n",
    "    x = image.img_to_array(img)\n",
    "    x = preprocess_input(x)\n",
    "    imageList.append(x)\n",
    "  return np.asarray(imageList)"
   ]
  },
  {
   "cell_type": "code",
   "execution_count": null,
   "metadata": {},
   "outputs": [],
   "source": [
    "\n"
   ]
  },
  {
   "cell_type": "code",
   "execution_count": null,
   "metadata": {},
   "outputs": [],
   "source": [
    "resultArray = []\n",
    "for image_index in range(0, 12500):\n",
    "    \n",
    "    img_vgg = image.load_img(\"../test_data/\"+str(image_index+1)+\".jpg\", target_size=(img_width_vgg, img_height_vgg))\n",
    "    img_vgg = image.img_to_array(img_vgg)\n",
    "    img_vgg = vgg16_preprocess_input(img_vgg)\n",
    "    \n",
    "    img_inception = image.load_img(\"../test_data/\"+str(image_index+1)+\".jpg\", target_size=(img_width_xception_inception, img_height_xception_inception))\n",
    "    img_inception = image.img_to_array(img_inception)\n",
    "    img_inception = inception_preprocess_input(img_inception)\n",
    "    \n",
    "    img_xception = image.load_img(\"../test_data/\"+str(image_index+1)+\".jpg\", target_size=(img_width_xception_inception, img_height_xception_inception))\n",
    "    img_xception = image.img_to_array(img_xception)\n",
    "    img_xception = xception_preprocess_input(img_xception)\n",
    "    \n",
    "    \n",
    "    predictedResult_vgg= model_vgg16.predict(np.array([img_vgg]))\n",
    "    predictedResult_inception = model_inception.predict(np.array([img_inception]))\n",
    "    predictedResult_xception = model_xception.predict(np.array([img_xception]))\n",
    "    \n",
    "    dogCount = 0\n",
    "    catCount = 0\n",
    "    if predictedResult_vgg[0][0] > 0.5:\n",
    "        dogCount += 1\n",
    "    else:\n",
    "        catCount += 1\n",
    "        \n",
    "    if predictedResult_inception[0][0] > 0.5:\n",
    "        dogCount += 1\n",
    "    else:\n",
    "        catCount += 1\n",
    "        \n",
    "    if predictedResult_xception[0][0] > 0.5:\n",
    "        dogCount += 1\n",
    "    else:\n",
    "        catCount += 1\n",
    "    \n",
    "    if dogCount >= 1:\n",
    "        resultArray.append([image_index+1,1])\n",
    "        print(\"dog\" + \"  \" + str(image_index + 1))\n",
    "    else:\n",
    "        resultArray.append([image_index+1,0])\n",
    "        print(\"cat\" + \"  \" + str(image_index + 1))"
   ]
  }
 ],
 "metadata": {
  "kernelspec": {
   "display_name": "Python 3",
   "language": "python",
   "name": "python3"
  },
  "language_info": {
   "codemirror_mode": {
    "name": "ipython",
    "version": 3
   },
   "file_extension": ".py",
   "mimetype": "text/x-python",
   "name": "python",
   "nbconvert_exporter": "python",
   "pygments_lexer": "ipython3",
   "version": "3.6.3"
  }
 },
 "nbformat": 4,
 "nbformat_minor": 2
}
