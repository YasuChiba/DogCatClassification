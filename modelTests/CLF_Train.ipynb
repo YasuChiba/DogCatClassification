{
 "cells": [
  {
   "cell_type": "code",
   "execution_count": 1,
   "metadata": {},
   "outputs": [
    {
     "name": "stderr",
     "output_type": "stream",
     "text": [
      "/usr/local/lib/python3.6/dist-packages/h5py/__init__.py:36: FutureWarning: Conversion of the second argument of issubdtype from `float` to `np.floating` is deprecated. In future, it will be treated as `np.float64 == np.dtype(float).type`.\n",
      "  from ._conv import register_converters as _register_converters\n",
      "Using TensorFlow backend.\n"
     ]
    }
   ],
   "source": [
    "from keras.applications.inception_v3 import InceptionV3,preprocess_input\n",
    "from keras.applications.inception_v3 import preprocess_input as inception_preprocess_input\n",
    "\n",
    "from keras.applications.xception import Xception,preprocess_input\n",
    "from keras.applications.xception import preprocess_input as xception_preprocess_input\n",
    "\n",
    "from keras.applications.vgg16 import VGG16, preprocess_input\n",
    "from keras.applications.vgg16 import preprocess_input as vgg16_preprocess_input\n",
    "\n",
    "\n",
    "from keras.models import Sequential, Model,load_model\n",
    "from keras.preprocessing import image\n",
    "\n",
    "from keras.wrappers.scikit_learn import KerasRegressor\n",
    "\n",
    "\n",
    "\n",
    "import matplotlib.pyplot as plt\n",
    "%matplotlib inline\n",
    "import numpy as np\n",
    "from PIL import Image\n",
    "import glob\n",
    "\n",
    "\n"
   ]
  },
  {
   "cell_type": "code",
   "execution_count": 2,
   "metadata": {},
   "outputs": [],
   "source": [
    "model_inception =load_model(\"../models/InceptionResNet_Finetuning/inceptionResNet_finetuning_train10.h5\")\n",
    "\n",
    "model_xception =load_model(\"../models/Xception/xception_finetuning_train10.h5\")\n",
    "\n",
    "model_vgg16 =load_model(\"../models/VGG_Finetuning/vgg16_finetuning_train10.h5\")\n",
    "\n",
    "\n"
   ]
  },
  {
   "cell_type": "code",
   "execution_count": 5,
   "metadata": {},
   "outputs": [],
   "source": [
    "img_width_xception_inception, img_height_xception_inception = 299, 299\n",
    "img_width_vgg, img_height_vgg = 224, 224\n",
    "\n",
    "\n"
   ]
  },
  {
   "cell_type": "code",
   "execution_count": 6,
   "metadata": {},
   "outputs": [],
   "source": [
    "\n",
    "def loadAllImage(img_name_list, preprocess_input,img_width,img_height):\n",
    "\n",
    "  imageList = []\n",
    "  for imgName in img_name_list:\n",
    "    img = image.load_img(imgName, target_size=(img_width, img_height))\n",
    "    x = image.img_to_array(img)\n",
    "    x = preprocess_input(x)\n",
    "    imageList.append(x)\n",
    "  return np.asarray(imageList)\n",
    "\n",
    "\n",
    "\n"
   ]
  },
  {
   "cell_type": "code",
   "execution_count": 7,
   "metadata": {},
   "outputs": [],
   "source": [
    "#dog_img_name_list = glob.glob('./' + \"../original_data/dog\" + '/*.' + \"jpg\") + glob.glob('./' + \"../data/validation/dogs\" + '/*.' + \"jpg\")\n",
    "#cat_img_name_list = glob.glob('./' + \"../original_data/cat\" + '/*.' + \"jpg\") + glob.glob('./' + \"../data/validation/cats\" + '/*.' + \"jpg\")\n",
    "\n",
    "dog_img_name_list = glob.glob('./' + \"../data/train1/dogs\" + '/*.' + \"jpg\")\n",
    "cat_img_name_list = glob.glob('./' + \"../data/train1/cats\" + '/*.' + \"jpg\")\n",
    "\n",
    "\n",
    "inception_dog_images = loadAllImage(dog_img_name_list, inception_preprocess_input,img_width_xception_inception,img_height_xception_inception)\n",
    "inception_cat_images = loadAllImage(cat_img_name_list, inception_preprocess_input,img_width_xception_inception,img_height_xception_inception)\n",
    "\n",
    "xception_dog_images = loadAllImage(dog_img_name_list, xception_preprocess_input,img_width_xception_inception,img_height_xception_inception)\n",
    "xception_cat_images = loadAllImage(cat_img_name_list, xception_preprocess_input,img_width_xception_inception,img_height_xception_inception)\n",
    "\n",
    "vgg_dog_images = loadAllImage(dog_img_name_list, vgg16_preprocess_input,img_width_vgg,img_height_vgg)\n",
    "vgg_cat_images = loadAllImage(cat_img_name_list, vgg16_preprocess_input,img_width_vgg,img_height_vgg)\n",
    "\n",
    "\n",
    "\n",
    "catLabels =  np.array([[0] for i in range(0,len(cat_img_name_list))])\n",
    "dogLabels =  np.array([[1] for i in range(0,len(dog_img_name_list))])"
   ]
  },
  {
   "cell_type": "code",
   "execution_count": 8,
   "metadata": {},
   "outputs": [],
   "source": [
    "inception_catPredictedList = []\n",
    "for index in range(0,len(inception_cat_images)):\n",
    "    predictedResult= model_inception.predict(np.array([inception_cat_images[index]]))\n",
    "    inception_catPredictedList.append((predictedResult[0][0],cat_img_name_list[index]))\n",
    "\n",
    "\n",
    "inception_dogPredictedList = []\n",
    "for index in range(0,len(inception_dog_images)):\n",
    "    predictedResult= model_inception.predict(np.array([inception_dog_images[index]]))\n",
    "    inception_dogPredictedList.append((predictedResult[0][0],dog_img_name_list[index]))\n"
   ]
  },
  {
   "cell_type": "code",
   "execution_count": 9,
   "metadata": {},
   "outputs": [],
   "source": [
    "xception_catPredictedList = []\n",
    "for index in range(0,len(inception_cat_images)):\n",
    "  predictedResult= model_xception.predict(np.array([xception_cat_images[index]]))\n",
    "  xception_catPredictedList.append((predictedResult[0][0],cat_img_name_list[index]))\n",
    "\n",
    "\n",
    "xception_dogPredictedList = []\n",
    "for index in range(0,len(inception_dog_images)):\n",
    "  predictedResult= model_xception.predict(np.array([xception_dog_images[index]]))\n",
    "  xception_dogPredictedList.append((predictedResult[0][0],dog_img_name_list[index]))\n",
    "\n"
   ]
  },
  {
   "cell_type": "code",
   "execution_count": 10,
   "metadata": {},
   "outputs": [],
   "source": [
    "vgg_catPredictedList = []\n",
    "for index in range(0,len(inception_cat_images)):\n",
    "  predictedResult= model_vgg16.predict(np.array([vgg_cat_images[index]]))\n",
    "  vgg_catPredictedList.append((predictedResult[0][0],cat_img_name_list[index]))\n",
    "\n",
    "\n",
    "vgg_dogPredictedList = []\n",
    "for index in range(0,len(inception_dog_images)):\n",
    "  predictedResult= model_vgg16.predict(np.array([vgg_dog_images[index]]))\n",
    "  vgg_dogPredictedList.append((predictedResult[0][0],dog_img_name_list[index]))\n",
    "\n",
    "\n",
    "\n"
   ]
  },
  {
   "cell_type": "code",
   "execution_count": 12,
   "metadata": {},
   "outputs": [],
   "source": [
    "inception_result = []\n",
    "for tmp in np.concatenate([inception_catPredictedList,inception_dogPredictedList]):\n",
    "    inception_result.append(float(tmp[0]))\n",
    "xception_result = []\n",
    "for tmp in np.concatenate([xception_catPredictedList,xception_dogPredictedList]):\n",
    "    xception_result.append(float(tmp[0]))\n",
    "vgg_result = []\n",
    "for tmp in np.concatenate([vgg_catPredictedList,vgg_dogPredictedList]):\n",
    "    vgg_result.append(float(tmp[0]))\n",
    "    \n",
    "inception_result = np.array(inception_result)\n",
    "xception_result = np.array(xception_result)\n",
    "vgg_result = np.array(vgg_result)"
   ]
  },
  {
   "cell_type": "code",
   "execution_count": 14,
   "metadata": {},
   "outputs": [],
   "source": [
    "labelList = []\n",
    "\n",
    "for tmp in catLabels:\n",
    "    labelList.append(0)\n",
    "for tmp in dogLabels:\n",
    "    labelList.append(1)\n",
    "    \n",
    "labelList = np.array(labelList)\n",
    "\n"
   ]
  },
  {
   "cell_type": "code",
   "execution_count": 15,
   "metadata": {},
   "outputs": [],
   "source": [
    "X = []\n",
    "for index in range(0, len(labelList)):\n",
    "    X.append(np.array([inception_result[index],xception_result[index],vgg_result[index]]))\n",
    "X = np.array(X)"
   ]
  },
  {
   "cell_type": "code",
   "execution_count": 78,
   "metadata": {},
   "outputs": [],
   "source": []
  },
  {
   "cell_type": "code",
   "execution_count": null,
   "metadata": {},
   "outputs": [],
   "source": []
  },
  {
   "cell_type": "code",
   "execution_count": null,
   "metadata": {},
   "outputs": [],
   "source": []
  },
  {
   "cell_type": "code",
   "execution_count": 16,
   "metadata": {},
   "outputs": [],
   "source": [
    "\n",
    "from sklearn import linear_model\n",
    "from sklearn.externals import joblib\n",
    "clf = linear_model.LinearRegression()"
   ]
  },
  {
   "cell_type": "code",
   "execution_count": 17,
   "metadata": {},
   "outputs": [
    {
     "data": {
      "text/plain": [
       "LinearRegression(copy_X=True, fit_intercept=True, n_jobs=1, normalize=False)"
      ]
     },
     "execution_count": 17,
     "metadata": {},
     "output_type": "execute_result"
    }
   ],
   "source": [
    "clf.fit(X, labelList)\n"
   ]
  },
  {
   "cell_type": "code",
   "execution_count": 18,
   "metadata": {},
   "outputs": [
    {
     "name": "stdout",
     "output_type": "stream",
     "text": [
      "回帰係数: [0.32335399 0.08938924 0.588434  ]\n",
      "切片: -0.0009623017598811012\n",
      "決定係数(学習用): 0.9989811009118621\n"
     ]
    }
   ],
   "source": [
    "a = clf.coef_\n",
    "b = clf.intercept_  \n",
    "\n",
    "# 回帰係数\n",
    "print(\"回帰係数:\", a)\n",
    "print(\"切片:\", b) \n",
    "print(\"決定係数(学習用):\", clf.score(X, labelList))\n"
   ]
  },
  {
   "cell_type": "code",
   "execution_count": 19,
   "metadata": {},
   "outputs": [
    {
     "data": {
      "text/plain": [
       "['../models/Ansamble/regression.pkl']"
      ]
     },
     "execution_count": 19,
     "metadata": {},
     "output_type": "execute_result"
    }
   ],
   "source": [
    "joblib.dump(clf, '../models/Ansamble/regression.pkl')\n",
    "#clf = joblib.load('../models/Ansamble/regression.pkl');"
   ]
  },
  {
   "cell_type": "code",
   "execution_count": null,
   "metadata": {},
   "outputs": [],
   "source": []
  }
 ],
 "metadata": {
  "kernelspec": {
   "display_name": "Python 3",
   "language": "python",
   "name": "python3"
  },
  "language_info": {
   "codemirror_mode": {
    "name": "ipython",
    "version": 3
   },
   "file_extension": ".py",
   "mimetype": "text/x-python",
   "name": "python",
   "nbconvert_exporter": "python",
   "pygments_lexer": "ipython3",
   "version": "3.6.3"
  }
 },
 "nbformat": 4,
 "nbformat_minor": 2
}
