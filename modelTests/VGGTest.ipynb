{
 "cells": [
  {
   "cell_type": "code",
   "execution_count": 1,
   "metadata": {},
   "outputs": [
    {
     "name": "stderr",
     "output_type": "stream",
     "text": [
      "/usr/local/lib/python3.6/dist-packages/h5py/__init__.py:36: FutureWarning: Conversion of the second argument of issubdtype from `float` to `np.floating` is deprecated. In future, it will be treated as `np.float64 == np.dtype(float).type`.\n",
      "  from ._conv import register_converters as _register_converters\n",
      "Using TensorFlow backend.\n"
     ]
    }
   ],
   "source": [
    "\n",
    "\n",
    "from keras.applications.vgg16 import VGG16, preprocess_input\n",
    "from keras.models import Sequential, Model,load_model\n",
    "from keras.layers import Input, Activation, Dropout, Flatten, Dense\n",
    "from keras import optimizers\n",
    "from keras.preprocessing import image\n",
    "\n",
    "from PIL import Image\n",
    "import glob\n",
    "\n",
    "\n",
    "import numpy as np"
   ]
  },
  {
   "cell_type": "code",
   "execution_count": 2,
   "metadata": {},
   "outputs": [
    {
     "name": "stdout",
     "output_type": "stream",
     "text": [
      "250\n"
     ]
    }
   ],
   "source": [
    "img_width, img_height = 224, 224\n",
    "\n",
    "\n",
    "def loadAllImageFromDir(dirName):\n",
    "  file_type  = 'jpg'\n",
    "  img_name_list = glob.glob('./' + dirName + '/*.' + file_type)\n",
    "\n",
    "  imageList = []\n",
    "  for imgName in img_name_list:\n",
    "    img = image.load_img(imgName, target_size=(img_width, img_height))\n",
    "    x = image.img_to_array(img)\n",
    "    x = preprocess_input(x)\n",
    "    imageList.append(x)\n",
    "  return np.asarray(imageList)\n",
    "\n",
    "dogImages = loadAllImageFromDir(\"../original_data/dog\")\n",
    "catImages = loadAllImageFromDir(\"../original_data/cat\")\n",
    "\n",
    "catLabels =  np.array([[0] for i in range(0,len(catImages))])\n",
    "dogLabels =  np.array([[1] for i in range(0,len(dogImages))])\n",
    "\n",
    "print(len(catLabels))"
   ]
  },
  {
   "cell_type": "code",
   "execution_count": 3,
   "metadata": {},
   "outputs": [],
   "source": [
    "model=load_model(\"../models/VGG_Finetuning/vgg16_finetuning_train10.h5\")\n",
    "\n"
   ]
  },
  {
   "cell_type": "code",
   "execution_count": 4,
   "metadata": {},
   "outputs": [
    {
     "name": "stdout",
     "output_type": "stream",
     "text": [
      "250/250 [==============================] - 4s 15ms/step\n",
      "250/250 [==============================] - 1s 3ms/step\n",
      "[0.42249189980217566, 0.956]\n",
      "[0.0590550853559497, 0.988]\n"
     ]
    }
   ],
   "source": [
    "scoreCat = model.evaluate(catImages, catLabels, verbose=1)\n",
    "scoreDog = model.evaluate(dogImages, dogLabels, verbose=1)\n",
    "print(scoreCat)\n",
    "print(scoreDog)"
   ]
  },
  {
   "cell_type": "code",
   "execution_count": null,
   "metadata": {},
   "outputs": [],
   "source": []
  }
 ],
 "metadata": {
  "kernelspec": {
   "display_name": "Python 3",
   "language": "python",
   "name": "python3"
  },
  "language_info": {
   "codemirror_mode": {
    "name": "ipython",
    "version": 3
   },
   "file_extension": ".py",
   "mimetype": "text/x-python",
   "name": "python",
   "nbconvert_exporter": "python",
   "pygments_lexer": "ipython3",
   "version": "3.6.3"
  }
 },
 "nbformat": 4,
 "nbformat_minor": 2
}
